{
 "cells": [
  {
   "cell_type": "markdown",
   "metadata": {},
   "source": [
    "## Assign random teams for September Steps :) "
   ]
  },
  {
   "cell_type": "code",
   "execution_count": 1,
   "metadata": {},
   "outputs": [],
   "source": [
    "import random\n",
    "random.seed(17)"
   ]
  },
  {
   "cell_type": "code",
   "execution_count": 2,
   "metadata": {},
   "outputs": [
    {
     "data": {
      "text/plain": [
       "['Aisling Hurley',\n",
       " 'Alexis Moyer',\n",
       " 'Anna Fumagalli',\n",
       " 'Cameron Nicol',\n",
       " 'Carol Blackwood',\n",
       " 'Coleen Caina',\n",
       " 'David McLeish',\n",
       " 'Ed Mitchard',\n",
       " 'Georg Fodl',\n",
       " 'Harry Carstairs',\n",
       " 'Heather Shepherd',\n",
       " 'Henry Speir',\n",
       " 'Jip Vader',\n",
       " 'Jocelyne Wardley',\n",
       " 'Joy Kimani',\n",
       " 'Kate Peggie',\n",
       " 'Kinjal Desai',\n",
       " 'Kirsty Laughlin',\n",
       " 'Klara Winther',\n",
       " 'Kristian Bodolai',\n",
       " 'Laura Patterson',\n",
       " 'Luke Coursey',\n",
       " 'Magda Navarro Torres Arpi',\n",
       " 'Neil Parker',\n",
       " 'Nived Rajeev Saritha',\n",
       " 'Oliver McFarlane',\n",
       " 'Paula Nieto Quintano',\n",
       " 'Rachel Noach',\n",
       " 'Sarah Appleby',\n",
       " 'Selena Georgiou',\n",
       " 'Simmone Davidson',\n",
       " 'Stuart Brown',\n",
       " 'Susheel Gajulapalle',\n",
       " 'Tom Ford',\n",
       " 'Will Briggs']"
      ]
     },
     "execution_count": 2,
     "metadata": {},
     "output_type": "execute_result"
    }
   ],
   "source": [
    "# Get list of participants:\n",
    "\n",
    "participants = ['Kirsty Laughlin',\n",
    "                'Selena Georgiou',\n",
    "                'Ed Mitchard',\n",
    "                'Luke Coursey',\n",
    "                'Simmone Davidson',\n",
    "                'Oliver McFarlane',\n",
    "                'Coleen Caina',\n",
    "                'Paula Nieto Quintano',\n",
    "                'Carol Blackwood',\n",
    "                'Rachel Noach',\n",
    "                'Anna Fumagalli',\n",
    "                'Heather Shepherd',\n",
    "                'Susheel Gajulapalle',\n",
    "                'Cameron Nicol',\n",
    "                'Nived Rajeev Saritha',\n",
    "                'Tom Ford',\n",
    "                'Will Briggs',\n",
    "                'Henry Speir',\n",
    "                'Alexis Moyer',\n",
    "                'Aisling Hurley',\n",
    "                'Jip Vader',\n",
    "                'Laura Patterson',\n",
    "                'Kristian Bodolai',\n",
    "                'David McLeish',\n",
    "                'Klara Winther',\n",
    "                'Joy Kimani',\n",
    "                'Magda Navarro Torres Arpi',\n",
    "                'Kinjal Desai',\n",
    "                'Stuart Brown',\n",
    "                'Jocelyne Wardley',\n",
    "                'Neil Parker',\n",
    "                'Sarah Appleby', \n",
    "                'Kate Peggie',\n",
    "                'Harry Carstairs',\n",
    "                'Georg Fodl']\n",
    "\n",
    "\n",
    "participants.sort()\n",
    "participants"
   ]
  },
  {
   "cell_type": "code",
   "execution_count": 3,
   "metadata": {},
   "outputs": [
    {
     "data": {
      "text/plain": [
       "7"
      ]
     },
     "execution_count": 3,
     "metadata": {},
     "output_type": "execute_result"
    }
   ],
   "source": [
    "# Define some group sizes:\n",
    "\n",
    "nparticipants = len(participants)\n",
    "group_size = 5\n",
    "ngroups = int(nparticipants / group_size)\n",
    "ngroups"
   ]
  },
  {
   "cell_type": "code",
   "execution_count": 4,
   "metadata": {},
   "outputs": [
    {
     "data": {
      "text/plain": [
       "['Simmone Davidson',\n",
       " 'Laura Patterson',\n",
       " 'Will Briggs',\n",
       " 'Carol Blackwood',\n",
       " 'Selena Georgiou',\n",
       " 'Susheel Gajulapalle',\n",
       " 'Alexis Moyer',\n",
       " 'Sarah Appleby',\n",
       " 'Oliver McFarlane',\n",
       " 'Anna Fumagalli',\n",
       " 'David McLeish',\n",
       " 'Henry Speir',\n",
       " 'Joy Kimani',\n",
       " 'Klara Winther',\n",
       " 'Kate Peggie',\n",
       " 'Heather Shepherd',\n",
       " 'Kinjal Desai',\n",
       " 'Stuart Brown',\n",
       " 'Jocelyne Wardley',\n",
       " 'Jip Vader',\n",
       " 'Ed Mitchard',\n",
       " 'Aisling Hurley',\n",
       " 'Cameron Nicol',\n",
       " 'Georg Fodl',\n",
       " 'Luke Coursey',\n",
       " 'Kirsty Laughlin',\n",
       " 'Rachel Noach',\n",
       " 'Magda Navarro Torres Arpi',\n",
       " 'Nived Rajeev Saritha',\n",
       " 'Coleen Caina',\n",
       " 'Harry Carstairs',\n",
       " 'Neil Parker',\n",
       " 'Kristian Bodolai',\n",
       " 'Paula Nieto Quintano',\n",
       " 'Tom Ford']"
      ]
     },
     "execution_count": 4,
     "metadata": {},
     "output_type": "execute_result"
    }
   ],
   "source": [
    "# Randomly shuffle these ...\n",
    "\n",
    "random.shuffle(participants)\n",
    "participants"
   ]
  },
  {
   "cell_type": "code",
   "execution_count": 5,
   "metadata": {},
   "outputs": [
    {
     "name": "stdout",
     "output_type": "stream",
     "text": [
      "Group 1: ['Simmone Davidson', 'Laura Patterson', 'Will Briggs', 'Carol Blackwood', 'Selena Georgiou']\n",
      "Group 2: ['Susheel Gajulapalle', 'Alexis Moyer', 'Sarah Appleby', 'Oliver McFarlane', 'Anna Fumagalli']\n",
      "Group 3: ['David McLeish', 'Henry Speir', 'Joy Kimani', 'Klara Winther', 'Kate Peggie']\n",
      "Group 4: ['Heather Shepherd', 'Kinjal Desai', 'Stuart Brown', 'Jocelyne Wardley', 'Jip Vader']\n",
      "Group 5: ['Ed Mitchard', 'Aisling Hurley', 'Cameron Nicol', 'Georg Fodl', 'Luke Coursey']\n",
      "Group 6: ['Kirsty Laughlin', 'Rachel Noach', 'Magda Navarro Torres Arpi', 'Nived Rajeev Saritha', 'Coleen Caina']\n",
      "Group 7: ['Harry Carstairs', 'Neil Parker', 'Kristian Bodolai', 'Paula Nieto Quintano', 'Tom Ford']\n"
     ]
    }
   ],
   "source": [
    "# Get our groups :)\n",
    "\n",
    "groups = []\n",
    "for i in range(ngroups):\n",
    "    groups.append(participants[i*group_size: (i+1)*group_size])\n",
    "    \n",
    "for i, group in enumerate(groups):\n",
    "    print(f'Group {i+1}: {group}')"
   ]
  }
 ],
 "metadata": {
  "kernelspec": {
   "display_name": "si-pch",
   "language": "python",
   "name": "python3"
  },
  "language_info": {
   "codemirror_mode": {
    "name": "ipython",
    "version": 3
   },
   "file_extension": ".py",
   "mimetype": "text/x-python",
   "name": "python",
   "nbconvert_exporter": "python",
   "pygments_lexer": "ipython3",
   "version": "3.11.4"
  }
 },
 "nbformat": 4,
 "nbformat_minor": 2
}
